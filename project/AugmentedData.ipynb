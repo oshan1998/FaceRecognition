{
 "cells": [
  {
   "cell_type": "markdown",
   "metadata": {},
   "source": [
    "<h1 align=\"center\">Face Recogition App</h1>\n",
    "<h2>Face Detection part</h2>"
   ]
  },
  {
   "cell_type": "code",
   "execution_count": 20,
   "metadata": {},
   "outputs": [],
   "source": [
    "import argparse\n",
    "import  cv2 as cv\n",
    "import numpy as np\n",
    "import imutils"
   ]
  },
  {
   "cell_type": "code",
   "execution_count": 32,
   "metadata": {},
   "outputs": [],
   "source": [
    "detector = cv.CascadeClassifier(\"./haarcascade.xml\")\n",
    "image = cv.imread(r\"./1.jpg\",cv.IMREAD_COLOR)\n",
    "assert image is not None\n",
    "image = imutils.resize(image, width=500)\n",
    "gray = cv.cvtColor(image, cv.COLOR_BGR2GRAY)\n"
   ]
  },
  {
   "cell_type": "code",
   "execution_count": null,
   "metadata": {},
   "outputs": [],
   "source": [
    "print(\"[INFO] performing face detection...\")\n",
    "rects = detector.detectMultiScale(gray, scaleFactor=1.05,\n",
    "\tminNeighbors=5, minSize=(30, 30),\n",
    "\tflags=cv.CASCADE_SCALE_IMAGE)\n",
    "print(\"[INFO] {} faces detected...\".format(len(rects)))\n",
    "for (x, y, w, h) in rects:\n",
    "\t# draw the face bounding box on the image\n",
    "\tcv.rectangle(image, (x, y), (x + w, y + h), (0, 255, 0), 2)\n",
    "# show the output image\n",
    "cv.imshow(\"Image\", image)\n",
    "cv.waitKey(0)"
   ]
  }
 ],
 "metadata": {
  "kernelspec": {
   "display_name": "Python 3.8.8 ('base')",
   "language": "python",
   "name": "python3"
  },
  "language_info": {
   "codemirror_mode": {
    "name": "ipython",
    "version": 3
   },
   "file_extension": ".py",
   "mimetype": "text/x-python",
   "name": "python",
   "nbconvert_exporter": "python",
   "pygments_lexer": "ipython3",
   "version": "3.8.8"
  },
  "orig_nbformat": 4,
  "vscode": {
   "interpreter": {
    "hash": "ad2bdc8ecc057115af97d19610ffacc2b4e99fae6737bb82f5d7fb13d2f2c186"
   }
  }
 },
 "nbformat": 4,
 "nbformat_minor": 2
}
